{
 "cells": [
  {
   "cell_type": "code",
   "execution_count": null,
   "metadata": {},
   "outputs": [],
   "source": [
    "path = '/home/noemi/Documents/LBM_Runs/Kolmogorov/data/input.param'\n",
    "f = open(path, 'r')\n",
    "data = f.readlines()\n",
    "for line in data:\n",
    "    words=line.split()\n",
    "Nxs=words[0]\n",
    "Nx=int(Nxs)\n",
    "Nys=words[1]\n",
    "Ny=int(Nys)\n",
    "Lxs=words[2]\n",
    "Lx=float(Lxs)\n",
    "Lys=words[3]\n",
    "Ly=float(Lys)\n",
    "print(Lx)\n",
    "ux=np.zeros([Nx+2,Ny+2])\n",
    "uy=np.zeros([Nx+2,Ny+2])\n",
    "xx=np.linspace(0,Lx+1,Nx+2)\n",
    "yy=np.linspace(0,Ly+1,Ny+2)\n",
    "uux_kolm=np.loadtxt('/home/noemi/Documents/LBM_Runs/Kolmogorov/velocity_math_vx.dat')\n",
    "uuy_kolm=np.loadtxt('/home/noemi/Documents/LBM_Runs/Kolmogorov/velocity_math_vy.dat')\n",
    "uux_p_kolm = (uux_kolm.reshape(Nx+2,Ny+2))\n",
    "uuy_p_kolm = (uuy_kolm.reshape(Nx+2,Ny+2))\n",
    "plt.imshow(uux_p_kolm.T)\n",
    "plt.title('ux')\n",
    "plt.colorbar()\n",
    "plt.show()\n",
    "plt.figure(2)\n",
    "plt.imshow(uuy_p_kolm.T)\n",
    "plt.title('uy')\n",
    "plt.colorbar()\n",
    "plt.show()\n"
   ]
  }
 ],
 "metadata": {
  "kernelspec": {
   "display_name": "Python 3",
   "language": "python",
   "name": "python3"
  },
  "language_info": {
   "codemirror_mode": {
    "name": "ipython",
    "version": 3
   },
   "file_extension": ".py",
   "mimetype": "text/x-python",
   "name": "python",
   "nbconvert_exporter": "python",
   "pygments_lexer": "ipython3",
   "version": "3.6.4"
  }
 },
 "nbformat": 4,
 "nbformat_minor": 2
}
